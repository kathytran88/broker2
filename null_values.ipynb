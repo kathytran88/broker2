{
 "cells": [
  {
   "cell_type": "code",
   "execution_count": 1,
   "metadata": {},
   "outputs": [
    {
     "data": {
      "text/html": [
       "<div>\n",
       "<style scoped>\n",
       "    .dataframe tbody tr th:only-of-type {\n",
       "        vertical-align: middle;\n",
       "    }\n",
       "\n",
       "    .dataframe tbody tr th {\n",
       "        vertical-align: top;\n",
       "    }\n",
       "\n",
       "    .dataframe thead th {\n",
       "        text-align: right;\n",
       "    }\n",
       "</style>\n",
       "<table border=\"1\" class=\"dataframe\">\n",
       "  <thead>\n",
       "    <tr style=\"text-align: right;\">\n",
       "      <th></th>\n",
       "      <th>company</th>\n",
       "      <th>name</th>\n",
       "      <th>state</th>\n",
       "      <th>link</th>\n",
       "      <th>phone</th>\n",
       "    </tr>\n",
       "  </thead>\n",
       "  <tbody>\n",
       "    <tr>\n",
       "      <th>0</th>\n",
       "      <td>Sunbelt Business Brokers of Baton Rouge</td>\n",
       "      <td>Daniel Exline</td>\n",
       "      <td>Florida</td>\n",
       "      <td>https://www.bizquest.com/business-broker/sunbe...</td>\n",
       "      <td>(850) 687-7244</td>\n",
       "    </tr>\n",
       "    <tr>\n",
       "      <th>1</th>\n",
       "      <td>Transworld Business Brokers</td>\n",
       "      <td>Bianca  Evans</td>\n",
       "      <td>Florida</td>\n",
       "      <td>https://www.bizquest.com/business-broker/trans...</td>\n",
       "      <td>(904) 425-9660</td>\n",
       "    </tr>\n",
       "    <tr>\n",
       "      <th>2</th>\n",
       "      <td>Green &amp; Co. Business Brokers</td>\n",
       "      <td>Julia Ladz Erlikh</td>\n",
       "      <td>Sarasota, Florida</td>\n",
       "      <td>https://www.bizquest.com/business-broker/green...</td>\n",
       "      <td>941.735.3035</td>\n",
       "    </tr>\n",
       "    <tr>\n",
       "      <th>3</th>\n",
       "      <td>Sunbelt Business Brokers of Baton Rouge</td>\n",
       "      <td>Tim Eovino</td>\n",
       "      <td>Miramar Beach, Florida</td>\n",
       "      <td>https://www.bizquest.com/business-broker/sunbe...</td>\n",
       "      <td>(850) 291-5827</td>\n",
       "    </tr>\n",
       "    <tr>\n",
       "      <th>4</th>\n",
       "      <td>Century 21 Carioti</td>\n",
       "      <td>Ahmed Elkomy</td>\n",
       "      <td>Orlando, Florida</td>\n",
       "      <td>https://www.bizquest.com/business-broker/centu...</td>\n",
       "      <td>(407) 994-6154</td>\n",
       "    </tr>\n",
       "  </tbody>\n",
       "</table>\n",
       "</div>"
      ],
      "text/plain": [
       "                                   company               name  \\\n",
       "0  Sunbelt Business Brokers of Baton Rouge      Daniel Exline   \n",
       "1              Transworld Business Brokers      Bianca  Evans   \n",
       "2             Green & Co. Business Brokers  Julia Ladz Erlikh   \n",
       "3  Sunbelt Business Brokers of Baton Rouge         Tim Eovino   \n",
       "4                       Century 21 Carioti       Ahmed Elkomy   \n",
       "\n",
       "                    state                                               link  \\\n",
       "0                 Florida  https://www.bizquest.com/business-broker/sunbe...   \n",
       "1                 Florida  https://www.bizquest.com/business-broker/trans...   \n",
       "2       Sarasota, Florida  https://www.bizquest.com/business-broker/green...   \n",
       "3  Miramar Beach, Florida  https://www.bizquest.com/business-broker/sunbe...   \n",
       "4        Orlando, Florida  https://www.bizquest.com/business-broker/centu...   \n",
       "\n",
       "            phone  \n",
       "0  (850) 687-7244  \n",
       "1  (904) 425-9660  \n",
       "2    941.735.3035  \n",
       "3  (850) 291-5827  \n",
       "4  (407) 994-6154  "
      ]
     },
     "execution_count": 1,
     "metadata": {},
     "output_type": "execute_result"
    }
   ],
   "source": [
    "import pandas as pd \n",
    "import numpy as np\n",
    "\n",
    "df = pd.read_excel('bizquest.xlsx')\n",
    "del df['Unnamed: 0']\n",
    "df.head()"
   ]
  },
  {
   "cell_type": "code",
   "execution_count": 2,
   "metadata": {},
   "outputs": [
    {
     "data": {
      "text/html": [
       "<div>\n",
       "<style scoped>\n",
       "    .dataframe tbody tr th:only-of-type {\n",
       "        vertical-align: middle;\n",
       "    }\n",
       "\n",
       "    .dataframe tbody tr th {\n",
       "        vertical-align: top;\n",
       "    }\n",
       "\n",
       "    .dataframe thead th {\n",
       "        text-align: right;\n",
       "    }\n",
       "</style>\n",
       "<table border=\"1\" class=\"dataframe\">\n",
       "  <thead>\n",
       "    <tr style=\"text-align: right;\">\n",
       "      <th></th>\n",
       "      <th>company</th>\n",
       "      <th>name</th>\n",
       "      <th>state</th>\n",
       "      <th>link</th>\n",
       "      <th>phone</th>\n",
       "    </tr>\n",
       "  </thead>\n",
       "  <tbody>\n",
       "    <tr>\n",
       "      <th>194</th>\n",
       "      <td>Sunbelt of Pasadena</td>\n",
       "      <td>Iris Chen</td>\n",
       "      <td>California</td>\n",
       "      <td>https://www.bizquest.com/business-broker/sunbe...</td>\n",
       "      <td>NaN</td>\n",
       "    </tr>\n",
       "    <tr>\n",
       "      <th>374</th>\n",
       "      <td>Innovative Business Advisors, LLC</td>\n",
       "      <td>Brandyn Simmons</td>\n",
       "      <td>Wisconsin</td>\n",
       "      <td>https://www.bizquest.com/business-broker/innov...</td>\n",
       "      <td>NaN</td>\n",
       "    </tr>\n",
       "    <tr>\n",
       "      <th>885</th>\n",
       "      <td>illi Commercial Real Estate</td>\n",
       "      <td>Michael Sharon</td>\n",
       "      <td>California</td>\n",
       "      <td>https://www.bizquest.com/business-broker/illi-...</td>\n",
       "      <td>NaN</td>\n",
       "    </tr>\n",
       "    <tr>\n",
       "      <th>925</th>\n",
       "      <td>Business Transition Strategies</td>\n",
       "      <td>Deborah Agrafojo</td>\n",
       "      <td>Connecticut</td>\n",
       "      <td>https://www.bizquest.com/business-broker/busin...</td>\n",
       "      <td>NaN</td>\n",
       "    </tr>\n",
       "    <tr>\n",
       "      <th>1390</th>\n",
       "      <td>M&amp;A Business Advisors</td>\n",
       "      <td>Mary E. Doyle</td>\n",
       "      <td>California</td>\n",
       "      <td>https://www.bizquest.com/business-broker/manda...</td>\n",
       "      <td>NaN</td>\n",
       "    </tr>\n",
       "  </tbody>\n",
       "</table>\n",
       "</div>"
      ],
      "text/plain": [
       "                                company              name        state  \\\n",
       "194                 Sunbelt of Pasadena         Iris Chen   California   \n",
       "374   Innovative Business Advisors, LLC   Brandyn Simmons    Wisconsin   \n",
       "885         illi Commercial Real Estate    Michael Sharon   California   \n",
       "925      Business Transition Strategies  Deborah Agrafojo  Connecticut   \n",
       "1390              M&A Business Advisors     Mary E. Doyle   California   \n",
       "\n",
       "                                                   link phone  \n",
       "194   https://www.bizquest.com/business-broker/sunbe...   NaN  \n",
       "374   https://www.bizquest.com/business-broker/innov...   NaN  \n",
       "885   https://www.bizquest.com/business-broker/illi-...   NaN  \n",
       "925   https://www.bizquest.com/business-broker/busin...   NaN  \n",
       "1390  https://www.bizquest.com/business-broker/manda...   NaN  "
      ]
     },
     "execution_count": 2,
     "metadata": {},
     "output_type": "execute_result"
    }
   ],
   "source": [
    "df = df.sort_values(by = 'phone', na_position='first')\n",
    "df.head()"
   ]
  },
  {
   "cell_type": "code",
   "execution_count": 3,
   "metadata": {},
   "outputs": [
    {
     "data": {
      "text/plain": [
       "(7308, 5)"
      ]
     },
     "execution_count": 3,
     "metadata": {},
     "output_type": "execute_result"
    }
   ],
   "source": [
    "df.shape"
   ]
  },
  {
   "cell_type": "code",
   "execution_count": 4,
   "metadata": {},
   "outputs": [],
   "source": [
    "df.to_excel('phonenull.xlsx')"
   ]
  }
 ],
 "metadata": {
  "kernelspec": {
   "display_name": "Python 3",
   "language": "python",
   "name": "python3"
  },
  "language_info": {
   "codemirror_mode": {
    "name": "ipython",
    "version": 3
   },
   "file_extension": ".py",
   "mimetype": "text/x-python",
   "name": "python",
   "nbconvert_exporter": "python",
   "pygments_lexer": "ipython3",
   "version": "3.12.1"
  }
 },
 "nbformat": 4,
 "nbformat_minor": 2
}
