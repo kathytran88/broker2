{
 "cells": [
  {
   "cell_type": "code",
   "execution_count": 1,
   "metadata": {},
   "outputs": [
    {
     "data": {
      "text/html": [
       "<div>\n",
       "<style scoped>\n",
       "    .dataframe tbody tr th:only-of-type {\n",
       "        vertical-align: middle;\n",
       "    }\n",
       "\n",
       "    .dataframe tbody tr th {\n",
       "        vertical-align: top;\n",
       "    }\n",
       "\n",
       "    .dataframe thead th {\n",
       "        text-align: right;\n",
       "    }\n",
       "</style>\n",
       "<table border=\"1\" class=\"dataframe\">\n",
       "  <thead>\n",
       "    <tr style=\"text-align: right;\">\n",
       "      <th></th>\n",
       "      <th>company</th>\n",
       "      <th>name</th>\n",
       "      <th>state</th>\n",
       "      <th>link</th>\n",
       "      <th>phone number</th>\n",
       "    </tr>\n",
       "  </thead>\n",
       "  <tbody>\n",
       "    <tr>\n",
       "      <th>0</th>\n",
       "      <td>Morgan &amp; Westfield</td>\n",
       "      <td>Arthur Williams</td>\n",
       "      <td>California</td>\n",
       "      <td>https://www.bizquest.com/business-broker/morga...</td>\n",
       "      <td>8886937834</td>\n",
       "    </tr>\n",
       "    <tr>\n",
       "      <th>1</th>\n",
       "      <td>DH Brokerage INC</td>\n",
       "      <td>Jerry Hasanovic</td>\n",
       "      <td>Ashland, Virginia</td>\n",
       "      <td>https://www.bizquest.com/business-broker/dh-br...</td>\n",
       "      <td>8047982071</td>\n",
       "    </tr>\n",
       "    <tr>\n",
       "      <th>2</th>\n",
       "      <td>Transworld Business Advisors of Eastern NC</td>\n",
       "      <td>Thomas Kelsey</td>\n",
       "      <td>North Carolina</td>\n",
       "      <td>https://www.bizquest.com/business-broker/trans...</td>\n",
       "      <td>9103005130</td>\n",
       "    </tr>\n",
       "    <tr>\n",
       "      <th>3</th>\n",
       "      <td>Best Business Brokers</td>\n",
       "      <td>Brian Judson</td>\n",
       "      <td>Savannah, Georgia</td>\n",
       "      <td>https://www.bizquest.com/business-broker/best-...</td>\n",
       "      <td>9123490940</td>\n",
       "    </tr>\n",
       "    <tr>\n",
       "      <th>4</th>\n",
       "      <td>Transworld Business Advisors of Orange</td>\n",
       "      <td>Nassim Bayat</td>\n",
       "      <td>California</td>\n",
       "      <td>https://www.bizquest.com/business-broker/trans...</td>\n",
       "      <td>7149231222</td>\n",
       "    </tr>\n",
       "  </tbody>\n",
       "</table>\n",
       "</div>"
      ],
      "text/plain": [
       "                                      company             name  \\\n",
       "0                          Morgan & Westfield  Arthur Williams   \n",
       "1                            DH Brokerage INC  Jerry Hasanovic   \n",
       "2  Transworld Business Advisors of Eastern NC    Thomas Kelsey   \n",
       "3                       Best Business Brokers     Brian Judson   \n",
       "4      Transworld Business Advisors of Orange     Nassim Bayat   \n",
       "\n",
       "               state                                               link  \\\n",
       "0         California  https://www.bizquest.com/business-broker/morga...   \n",
       "1  Ashland, Virginia  https://www.bizquest.com/business-broker/dh-br...   \n",
       "2     North Carolina  https://www.bizquest.com/business-broker/trans...   \n",
       "3  Savannah, Georgia  https://www.bizquest.com/business-broker/best-...   \n",
       "4         California  https://www.bizquest.com/business-broker/trans...   \n",
       "\n",
       "   phone number  \n",
       "0    8886937834  \n",
       "1    8047982071  \n",
       "2    9103005130  \n",
       "3    9123490940  \n",
       "4    7149231222  "
      ]
     },
     "execution_count": 1,
     "metadata": {},
     "output_type": "execute_result"
    }
   ],
   "source": [
    "import pandas as pd \n",
    "import numpy as np\n",
    "\n",
    "df = pd.read_excel('phonenull2.xlsx')\n",
    "del df['Unnamed: 0']\n",
    "df.head()"
   ]
  },
  {
   "cell_type": "code",
   "execution_count": 2,
   "metadata": {},
   "outputs": [
    {
     "data": {
      "text/plain": [
       "(7281, 5)"
      ]
     },
     "execution_count": 2,
     "metadata": {},
     "output_type": "execute_result"
    }
   ],
   "source": [
    "df.shape"
   ]
  },
  {
   "cell_type": "code",
   "execution_count": 3,
   "metadata": {},
   "outputs": [
    {
     "data": {
      "text/plain": [
       "company         9\n",
       "name            0\n",
       "state           0\n",
       "link            0\n",
       "phone number    0\n",
       "dtype: int64"
      ]
     },
     "execution_count": 3,
     "metadata": {},
     "output_type": "execute_result"
    }
   ],
   "source": [
    "df.isnull().sum()"
   ]
  },
  {
   "cell_type": "code",
   "execution_count": 4,
   "metadata": {},
   "outputs": [
    {
     "data": {
      "text/html": [
       "<div>\n",
       "<style scoped>\n",
       "    .dataframe tbody tr th:only-of-type {\n",
       "        vertical-align: middle;\n",
       "    }\n",
       "\n",
       "    .dataframe tbody tr th {\n",
       "        vertical-align: top;\n",
       "    }\n",
       "\n",
       "    .dataframe thead th {\n",
       "        text-align: right;\n",
       "    }\n",
       "</style>\n",
       "<table border=\"1\" class=\"dataframe\">\n",
       "  <thead>\n",
       "    <tr style=\"text-align: right;\">\n",
       "      <th></th>\n",
       "      <th>company</th>\n",
       "      <th>name</th>\n",
       "      <th>state</th>\n",
       "      <th>link</th>\n",
       "      <th>phone number</th>\n",
       "    </tr>\n",
       "  </thead>\n",
       "  <tbody>\n",
       "    <tr>\n",
       "      <th>3123</th>\n",
       "      <td>NaN</td>\n",
       "      <td>Prakas &amp; Company</td>\n",
       "      <td>Boca Raton, Florida</td>\n",
       "      <td>https://www.bizquest.com/business-broker//prak...</td>\n",
       "      <td>5619290111</td>\n",
       "    </tr>\n",
       "    <tr>\n",
       "      <th>3271</th>\n",
       "      <td>NaN</td>\n",
       "      <td>Bud Rago</td>\n",
       "      <td>Gilbert, Arizona</td>\n",
       "      <td>https://www.bizquest.com/business-broker//bud-...</td>\n",
       "      <td>6023991466</td>\n",
       "    </tr>\n",
       "    <tr>\n",
       "      <th>3886</th>\n",
       "      <td>NaN</td>\n",
       "      <td>Peter Rook</td>\n",
       "      <td>Missouri</td>\n",
       "      <td>https://www.bizquest.com/business-broker//pete...</td>\n",
       "      <td>6366752103</td>\n",
       "    </tr>\n",
       "    <tr>\n",
       "      <th>3896</th>\n",
       "      <td>NaN</td>\n",
       "      <td>Business ACQ</td>\n",
       "      <td>Brooklyn, New York</td>\n",
       "      <td>https://www.bizquest.com/business-broker/bizqu...</td>\n",
       "      <td>6465003473</td>\n",
       "    </tr>\n",
       "    <tr>\n",
       "      <th>6042</th>\n",
       "      <td>NaN</td>\n",
       "      <td>Miklos Campuzano</td>\n",
       "      <td>San Diego, California</td>\n",
       "      <td>https://www.bizquest.com/business-broker/bizqu...</td>\n",
       "      <td>8589254553</td>\n",
       "    </tr>\n",
       "  </tbody>\n",
       "</table>\n",
       "</div>"
      ],
      "text/plain": [
       "     company              name                  state  \\\n",
       "3123     NaN  Prakas & Company    Boca Raton, Florida   \n",
       "3271     NaN          Bud Rago       Gilbert, Arizona   \n",
       "3886     NaN        Peter Rook               Missouri   \n",
       "3896     NaN      Business ACQ     Brooklyn, New York   \n",
       "6042     NaN  Miklos Campuzano  San Diego, California   \n",
       "\n",
       "                                                   link  phone number  \n",
       "3123  https://www.bizquest.com/business-broker//prak...    5619290111  \n",
       "3271  https://www.bizquest.com/business-broker//bud-...    6023991466  \n",
       "3886  https://www.bizquest.com/business-broker//pete...    6366752103  \n",
       "3896  https://www.bizquest.com/business-broker/bizqu...    6465003473  \n",
       "6042  https://www.bizquest.com/business-broker/bizqu...    8589254553  "
      ]
     },
     "execution_count": 4,
     "metadata": {},
     "output_type": "execute_result"
    }
   ],
   "source": [
    "df = df.sort_values(by='company', na_position='first')\n",
    "df.head()"
   ]
  },
  {
   "cell_type": "code",
   "execution_count": 5,
   "metadata": {},
   "outputs": [],
   "source": [
    "df.to_excel('company.xlsx')"
   ]
  }
 ],
 "metadata": {
  "kernelspec": {
   "display_name": "Python 3",
   "language": "python",
   "name": "python3"
  },
  "language_info": {
   "codemirror_mode": {
    "name": "ipython",
    "version": 3
   },
   "file_extension": ".py",
   "mimetype": "text/x-python",
   "name": "python",
   "nbconvert_exporter": "python",
   "pygments_lexer": "ipython3",
   "version": "3.12.1"
  }
 },
 "nbformat": 4,
 "nbformat_minor": 2
}
